{
 "cells": [
  {
   "cell_type": "code",
   "execution_count": 1,
   "id": "c70b59d9",
   "metadata": {},
   "outputs": [
    {
     "name": "stdout",
     "output_type": "stream",
     "text": [
      "^C\n",
      "Note: you may need to restart the kernel to use updated packages.\n"
     ]
    },
    {
     "name": "stdout",
     "output_type": "stream",
     "text": [
      "Collecting chromadb\n",
      "  Downloading chromadb-1.0.21-cp39-abi3-win_amd64.whl (19.8 MB)\n",
      "     ---------------------------------------- 19.8/19.8 MB 6.3 MB/s eta 0:00:00\n",
      "Collecting build>=1.0.3\n",
      "  Downloading build-1.3.0-py3-none-any.whl (23 kB)\n",
      "Requirement already satisfied: pydantic>=1.9 in c:\\users\\ramsharan-pc\\appdata\\local\\programs\\python\\python311\\lib\\site-packages (from chromadb) (2.11.7)\n",
      "Collecting pybase64>=1.4.1\n",
      "  Downloading pybase64-1.4.2-cp311-cp311-win_amd64.whl (35 kB)\n",
      "Requirement already satisfied: uvicorn[standard]>=0.18.3 in c:\\users\\ramsharan-pc\\appdata\\local\\programs\\python\\python311\\lib\\site-packages (from chromadb) (0.35.0)\n",
      "Collecting numpy>=1.22.5\n",
      "  Downloading numpy-2.3.3-cp311-cp311-win_amd64.whl (13.1 MB)\n",
      "     --------------------------------------- 13.1/13.1 MB 13.1 MB/s eta 0:00:00\n",
      "Collecting posthog<6.0.0,>=2.4.0\n",
      "  Downloading posthog-5.4.0-py3-none-any.whl (105 kB)\n",
      "     ---------------------------------------- 105.4/105.4 kB ? eta 0:00:00\n",
      "Requirement already satisfied: typing-extensions>=4.5.0 in c:\\users\\ramsharan-pc\\appdata\\local\\programs\\python\\python311\\lib\\site-packages (from chromadb) (4.14.1)\n",
      "Collecting onnxruntime>=1.14.1\n",
      "  Downloading onnxruntime-1.22.1-cp311-cp311-win_amd64.whl (12.7 MB)\n",
      "     --------------------------------------- 12.7/12.7 MB 12.3 MB/s eta 0:00:00\n",
      "Collecting opentelemetry-api>=1.2.0\n",
      "  Downloading opentelemetry_api-1.37.0-py3-none-any.whl (65 kB)\n",
      "     ---------------------------------------- 65.7/65.7 kB 3.5 MB/s eta 0:00:00\n",
      "Collecting opentelemetry-exporter-otlp-proto-grpc>=1.2.0\n",
      "  Downloading opentelemetry_exporter_otlp_proto_grpc-1.37.0-py3-none-any.whl (19 kB)\n",
      "Collecting opentelemetry-sdk>=1.2.0\n",
      "  Downloading opentelemetry_sdk-1.37.0-py3-none-any.whl (131 kB)\n",
      "     -------------------------------------- 131.9/131.9 kB 8.1 MB/s eta 0:00:00\n",
      "Collecting tokenizers>=0.13.2\n",
      "  Downloading tokenizers-0.22.0-cp39-abi3-win_amd64.whl (2.7 MB)\n",
      "     ---------------------------------------- 2.7/2.7 MB 13.2 MB/s eta 0:00:00\n",
      "Collecting pypika>=0.48.9\n",
      "  Downloading PyPika-0.48.9.tar.gz (67 kB)\n",
      "     ---------------------------------------- 67.3/67.3 kB ? eta 0:00:00\n",
      "  Installing build dependencies: started\n",
      "  Installing build dependencies: finished with status 'done'\n",
      "  Getting requirements to build wheel: started\n",
      "  Getting requirements to build wheel: finished with status 'done'\n",
      "  Preparing metadata (pyproject.toml): started\n",
      "  Preparing metadata (pyproject.toml): finished with status 'done'\n",
      "Collecting tqdm>=4.65.0\n",
      "  Downloading tqdm-4.67.1-py3-none-any.whl (78 kB)\n",
      "     ---------------------------------------- 78.5/78.5 kB ? eta 0:00:00\n",
      "Collecting overrides>=7.3.1\n",
      "  Downloading overrides-7.7.0-py3-none-any.whl (17 kB)\n",
      "Collecting importlib-resources\n",
      "  Downloading importlib_resources-6.5.2-py3-none-any.whl (37 kB)\n",
      "Collecting grpcio>=1.58.0\n",
      "  Downloading grpcio-1.74.0-cp311-cp311-win_amd64.whl (4.5 MB)\n",
      "     ---------------------------------------- 4.5/4.5 MB 20.5 MB/s eta 0:00:00\n",
      "Collecting bcrypt>=4.0.1\n",
      "  Downloading bcrypt-4.3.0-cp39-abi3-win_amd64.whl (152 kB)\n",
      "     -------------------------------------- 152.8/152.8 kB 9.5 MB/s eta 0:00:00\n",
      "Collecting typer>=0.9.0\n",
      "  Downloading typer-0.17.4-py3-none-any.whl (46 kB)\n",
      "     ---------------------------------------- 46.6/46.6 kB 2.3 MB/s eta 0:00:00\n",
      "Collecting kubernetes>=28.1.0\n",
      "  Downloading kubernetes-33.1.0-py2.py3-none-any.whl (1.9 MB)\n",
      "     ---------------------------------------- 1.9/1.9 MB 20.5 MB/s eta 0:00:00\n",
      "Requirement already satisfied: tenacity>=8.2.3 in c:\\users\\ramsharan-pc\\appdata\\local\\programs\\python\\python311\\lib\\site-packages (from chromadb) (9.1.2)\n",
      "Requirement already satisfied: pyyaml>=6.0.0 in c:\\users\\ramsharan-pc\\appdata\\local\\programs\\python\\python311\\lib\\site-packages (from chromadb) (6.0)\n",
      "Collecting mmh3>=4.0.1\n",
      "  Downloading mmh3-5.2.0-cp311-cp311-win_amd64.whl (41 kB)\n",
      "     ---------------------------------------- 41.5/41.5 kB ? eta 0:00:00\n",
      "Requirement already satisfied: orjson>=3.9.12 in c:\\users\\ramsharan-pc\\appdata\\local\\programs\\python\\python311\\lib\\site-packages (from chromadb) (3.11.3)\n",
      "Requirement already satisfied: httpx>=0.27.0 in c:\\users\\ramsharan-pc\\appdata\\local\\programs\\python\\python311\\lib\\site-packages (from chromadb) (0.28.1)\n",
      "Collecting rich>=10.11.0\n",
      "  Downloading rich-14.1.0-py3-none-any.whl (243 kB)\n",
      "     ------------------------------------- 243.4/243.4 kB 15.5 MB/s eta 0:00:00\n",
      "Collecting jsonschema>=4.19.0\n",
      "  Downloading jsonschema-4.25.1-py3-none-any.whl (90 kB)\n",
      "     ---------------------------------------- 90.0/90.0 kB ? eta 0:00:00\n",
      "Requirement already satisfied: packaging>=19.1 in c:\\users\\ramsharan-pc\\appdata\\roaming\\python\\python311\\site-packages (from build>=1.0.3->chromadb) (25.0)\n",
      "Collecting pyproject_hooks\n",
      "  Downloading pyproject_hooks-1.2.0-py3-none-any.whl (10 kB)\n",
      "Requirement already satisfied: colorama in c:\\users\\ramsharan-pc\\appdata\\local\\programs\\python\\python311\\lib\\site-packages (from build>=1.0.3->chromadb) (0.4.6)\n",
      "Requirement already satisfied: anyio in c:\\users\\ramsharan-pc\\appdata\\local\\programs\\python\\python311\\lib\\site-packages (from httpx>=0.27.0->chromadb) (4.10.0)\n",
      "Requirement already satisfied: certifi in c:\\users\\ramsharan-pc\\appdata\\local\\programs\\python\\python311\\lib\\site-packages (from httpx>=0.27.0->chromadb) (2022.9.24)\n",
      "Requirement already satisfied: httpcore==1.* in c:\\users\\ramsharan-pc\\appdata\\local\\programs\\python\\python311\\lib\\site-packages (from httpx>=0.27.0->chromadb) (1.0.9)\n",
      "Requirement already satisfied: idna in c:\\users\\ramsharan-pc\\appdata\\local\\programs\\python\\python311\\lib\\site-packages (from httpx>=0.27.0->chromadb) (3.4)\n",
      "Requirement already satisfied: h11>=0.16 in c:\\users\\ramsharan-pc\\appdata\\local\\programs\\python\\python311\\lib\\site-packages (from httpcore==1.*->httpx>=0.27.0->chromadb) (0.16.0)\n",
      "Collecting attrs>=22.2.0\n",
      "  Downloading attrs-25.3.0-py3-none-any.whl (63 kB)\n",
      "     ---------------------------------------- 63.8/63.8 kB 3.3 MB/s eta 0:00:00\n",
      "Collecting jsonschema-specifications>=2023.03.6\n",
      "  Downloading jsonschema_specifications-2025.9.1-py3-none-any.whl (18 kB)\n",
      "Collecting referencing>=0.28.4\n",
      "  Downloading referencing-0.36.2-py3-none-any.whl (26 kB)\n",
      "Collecting rpds-py>=0.7.1\n",
      "  Downloading rpds_py-0.27.1-cp311-cp311-win_amd64.whl (228 kB)\n",
      "     ------------------------------------- 228.6/228.6 kB 13.6 MB/s eta 0:00:00\n",
      "Requirement already satisfied: six>=1.9.0 in c:\\users\\ramsharan-pc\\appdata\\local\\programs\\python\\python311\\lib\\site-packages (from kubernetes>=28.1.0->chromadb) (1.16.0)\n",
      "Requirement already satisfied: python-dateutil>=2.5.3 in c:\\users\\ramsharan-pc\\appdata\\local\\programs\\python\\python311\\lib\\site-packages (from kubernetes>=28.1.0->chromadb) (2.8.2)\n",
      "Collecting google-auth>=1.0.1\n",
      "  Downloading google_auth-2.40.3-py2.py3-none-any.whl (216 kB)\n",
      "     ------------------------------------- 216.1/216.1 kB 12.9 MB/s eta 0:00:00\n",
      "Collecting websocket-client!=0.40.0,!=0.41.*,!=0.42.*,>=0.32.0\n",
      "  Downloading websocket_client-1.8.0-py3-none-any.whl (58 kB)\n",
      "     ---------------------------------------- 58.8/58.8 kB 3.0 MB/s eta 0:00:00\n",
      "Requirement already satisfied: requests in c:\\users\\ramsharan-pc\\appdata\\local\\programs\\python\\python311\\lib\\site-packages (from kubernetes>=28.1.0->chromadb) (2.28.1)\n",
      "Collecting requests-oauthlib\n",
      "  Downloading requests_oauthlib-2.0.0-py2.py3-none-any.whl (24 kB)\n",
      "Collecting oauthlib>=3.2.2\n",
      "  Downloading oauthlib-3.3.1-py3-none-any.whl (160 kB)\n",
      "     ---------------------------------------- 160.1/160.1 kB ? eta 0:00:00\n",
      "Requirement already satisfied: urllib3>=1.24.2 in c:\\users\\ramsharan-pc\\appdata\\local\\programs\\python\\python311\\lib\\site-packages (from kubernetes>=28.1.0->chromadb) (1.26.12)\n",
      "Collecting durationpy>=0.7\n",
      "  Downloading durationpy-0.10-py3-none-any.whl (3.9 kB)\n",
      "Collecting coloredlogs\n",
      "  Downloading coloredlogs-15.0.1-py2.py3-none-any.whl (46 kB)\n",
      "     ---------------------------------------- 46.0/46.0 kB 2.2 MB/s eta 0:00:00\n",
      "Collecting flatbuffers\n",
      "  Downloading flatbuffers-25.2.10-py2.py3-none-any.whl (30 kB)\n",
      "Collecting protobuf\n",
      "  Downloading protobuf-6.32.1-cp310-abi3-win_amd64.whl (435 kB)\n",
      "     -------------------------------------- 435.7/435.7 kB 6.8 MB/s eta 0:00:00\n",
      "Collecting sympy\n",
      "  Downloading sympy-1.14.0-py3-none-any.whl (6.3 MB)\n",
      "     ---------------------------------------- 6.3/6.3 MB 20.1 MB/s eta 0:00:00\n",
      "Collecting importlib-metadata<8.8.0,>=6.0\n",
      "  Downloading importlib_metadata-8.7.0-py3-none-any.whl (27 kB)\n",
      "Collecting googleapis-common-protos~=1.57\n",
      "  Downloading googleapis_common_protos-1.70.0-py3-none-any.whl (294 kB)\n",
      "     ------------------------------------- 294.5/294.5 kB 17.8 MB/s eta 0:00:00\n",
      "Collecting opentelemetry-exporter-otlp-proto-common==1.37.0\n",
      "  Downloading opentelemetry_exporter_otlp_proto_common-1.37.0-py3-none-any.whl (18 kB)\n",
      "Collecting opentelemetry-proto==1.37.0\n",
      "  Downloading opentelemetry_proto-1.37.0-py3-none-any.whl (72 kB)\n",
      "     ---------------------------------------- 72.5/72.5 kB ? eta 0:00:00\n",
      "Collecting opentelemetry-semantic-conventions==0.58b0\n",
      "  Downloading opentelemetry_semantic_conventions-0.58b0-py3-none-any.whl (207 kB)\n",
      "     ---------------------------------------- 208.0/208.0 kB ? eta 0:00:00\n",
      "Collecting backoff>=1.10.0\n",
      "  Downloading backoff-2.2.1-py3-none-any.whl (15 kB)\n",
      "Requirement already satisfied: distro>=1.5.0 in c:\\users\\ramsharan-pc\\appdata\\local\\programs\\python\\python311\\lib\\site-packages (from posthog<6.0.0,>=2.4.0->chromadb) (1.9.0)\n",
      "Requirement already satisfied: annotated-types>=0.6.0 in c:\\users\\ramsharan-pc\\appdata\\local\\programs\\python\\python311\\lib\\site-packages (from pydantic>=1.9->chromadb) (0.7.0)\n",
      "Requirement already satisfied: pydantic-core==2.33.2 in c:\\users\\ramsharan-pc\\appdata\\local\\programs\\python\\python311\\lib\\site-packages (from pydantic>=1.9->chromadb) (2.33.2)\n",
      "Requirement already satisfied: typing-inspection>=0.4.0 in c:\\users\\ramsharan-pc\\appdata\\local\\programs\\python\\python311\\lib\\site-packages (from pydantic>=1.9->chromadb) (0.4.1)\n",
      "Collecting markdown-it-py>=2.2.0\n",
      "  Downloading markdown_it_py-4.0.0-py3-none-any.whl (87 kB)\n",
      "     ---------------------------------------- 87.3/87.3 kB 4.8 MB/s eta 0:00:00\n",
      "Requirement already satisfied: pygments<3.0.0,>=2.13.0 in c:\\users\\ramsharan-pc\\appdata\\roaming\\python\\python311\\site-packages (from rich>=10.11.0->chromadb) (2.19.2)\n",
      "Collecting huggingface-hub<1.0,>=0.16.4\n",
      "  Downloading huggingface_hub-0.34.4-py3-none-any.whl (561 kB)\n",
      "     ------------------------------------- 561.5/561.5 kB 17.8 MB/s eta 0:00:00\n",
      "Requirement already satisfied: click>=8.0.0 in c:\\users\\ramsharan-pc\\appdata\\local\\programs\\python\\python311\\lib\\site-packages (from typer>=0.9.0->chromadb) (8.2.1)\n",
      "Collecting shellingham>=1.3.0\n",
      "  Downloading shellingham-1.5.4-py2.py3-none-any.whl (9.8 kB)\n",
      "Collecting httptools>=0.6.3\n",
      "  Downloading httptools-0.6.4-cp311-cp311-win_amd64.whl (88 kB)\n",
      "     ---------------------------------------- 88.6/88.6 kB ? eta 0:00:00\n",
      "Requirement already satisfied: python-dotenv>=0.13 in c:\\users\\ramsharan-pc\\appdata\\local\\programs\\python\\python311\\lib\\site-packages (from uvicorn[standard]>=0.18.3->chromadb) (1.1.1)\n",
      "Collecting watchfiles>=0.13\n",
      "  Downloading watchfiles-1.1.0-cp311-cp311-win_amd64.whl (292 kB)\n",
      "     -------------------------------------- 292.6/292.6 kB 6.0 MB/s eta 0:00:00\n",
      "Collecting websockets>=10.4\n",
      "  Downloading websockets-15.0.1-cp311-cp311-win_amd64.whl (176 kB)\n",
      "     ---------------------------------------- 176.8/176.8 kB ? eta 0:00:00\n",
      "Collecting cachetools<6.0,>=2.0.0\n",
      "  Downloading cachetools-5.5.2-py3-none-any.whl (10 kB)\n",
      "Collecting pyasn1-modules>=0.2.1\n",
      "  Downloading pyasn1_modules-0.4.2-py3-none-any.whl (181 kB)\n",
      "     ---------------------------------------- 181.3/181.3 kB ? eta 0:00:00\n",
      "Collecting rsa<5,>=3.1.4\n",
      "  Downloading rsa-4.9.1-py3-none-any.whl (34 kB)\n",
      "Requirement already satisfied: filelock in c:\\users\\ramsharan-pc\\appdata\\local\\programs\\python\\python311\\lib\\site-packages (from huggingface-hub<1.0,>=0.16.4->tokenizers>=0.13.2->chromadb) (3.12.0)\n",
      "Collecting fsspec>=2023.5.0\n",
      "  Downloading fsspec-2025.9.0-py3-none-any.whl (199 kB)\n",
      "     ------------------------------------- 199.3/199.3 kB 11.8 MB/s eta 0:00:00\n",
      "Collecting zipp>=3.20\n",
      "  Downloading zipp-3.23.0-py3-none-any.whl (10 kB)\n",
      "Collecting mdurl~=0.1\n",
      "  Downloading mdurl-0.1.2-py3-none-any.whl (10.0 kB)\n",
      "Requirement already satisfied: charset-normalizer<3,>=2 in c:\\users\\ramsharan-pc\\appdata\\local\\programs\\python\\python311\\lib\\site-packages (from requests->kubernetes>=28.1.0->chromadb) (2.1.1)\n",
      "Requirement already satisfied: sniffio>=1.1 in c:\\users\\ramsharan-pc\\appdata\\local\\programs\\python\\python311\\lib\\site-packages (from anyio->httpx>=0.27.0->chromadb) (1.3.1)\n",
      "Collecting humanfriendly>=9.1\n",
      "  Downloading humanfriendly-10.0-py2.py3-none-any.whl (86 kB)\n",
      "     ---------------------------------------- 86.8/86.8 kB ? eta 0:00:00\n",
      "Collecting mpmath<1.4,>=1.1.0\n",
      "  Downloading mpmath-1.3.0-py3-none-any.whl (536 kB)\n",
      "     ------------------------------------- 536.2/536.2 kB 17.0 MB/s eta 0:00:00\n",
      "Collecting pyreadline3\n",
      "  Downloading pyreadline3-3.5.4-py3-none-any.whl (83 kB)\n",
      "     ---------------------------------------- 83.2/83.2 kB ? eta 0:00:00\n",
      "Collecting pyasn1<0.7.0,>=0.6.1\n",
      "  Downloading pyasn1-0.6.1-py3-none-any.whl (83 kB)\n",
      "     ---------------------------------------- 83.1/83.1 kB ? eta 0:00:00\n",
      "Building wheels for collected packages: pypika\n",
      "  Building wheel for pypika (pyproject.toml): started\n",
      "  Building wheel for pypika (pyproject.toml): finished with status 'done'\n",
      "  Created wheel for pypika: filename=pypika-0.48.9-py2.py3-none-any.whl size=53916 sha256=821d1ba0b7e29de05613350f5d8d0a074a7af1c68618bad70ff752da86fe9b45\n",
      "  Stored in directory: c:\\users\\ramsharan-pc\\appdata\\local\\pip\\cache\\wheels\\da\\b1\\64\\178bd739d19ac4e7b567619cde8454c523f972963ced4d48c4\n",
      "Successfully built pypika\n",
      "Installing collected packages: pypika, mpmath, flatbuffers, durationpy, zipp, websockets, websocket-client, tqdm, sympy, shellingham, rpds-py, pyreadline3, pyproject_hooks, pybase64, pyasn1, protobuf, overrides, oauthlib, numpy, mmh3, mdurl, importlib-resources, httptools, grpcio, fsspec, cachetools, bcrypt, backoff, attrs, watchfiles, rsa, requests-oauthlib, referencing, pyasn1-modules, posthog, opentelemetry-proto, markdown-it-py, importlib-metadata, humanfriendly, huggingface-hub, googleapis-common-protos, build, tokenizers, rich, opentelemetry-exporter-otlp-proto-common, opentelemetry-api, jsonschema-specifications, google-auth, coloredlogs, typer, opentelemetry-semantic-conventions, onnxruntime, kubernetes, jsonschema, opentelemetry-sdk, opentelemetry-exporter-otlp-proto-grpc, chromadb\n",
      "Successfully installed attrs-25.3.0 backoff-2.2.1 bcrypt-4.3.0 build-1.3.0 cachetools-5.5.2 chromadb-1.0.21 coloredlogs-15.0.1 durationpy-0.10 flatbuffers-25.2.10 fsspec-2025.9.0 google-auth-2.40.3 googleapis-common-protos-1.70.0 grpcio-1.74.0 httptools-0.6.4 huggingface-hub-0.34.4 humanfriendly-10.0 importlib-metadata-8.7.0 importlib-resources-6.5.2 jsonschema-4.25.1 jsonschema-specifications-2025.9.1 kubernetes-33.1.0 markdown-it-py-4.0.0 mdurl-0.1.2 mmh3-5.2.0 mpmath-1.3.0 numpy-2.3.3 oauthlib-3.3.1 onnxruntime-1.22.1 opentelemetry-api-1.37.0 opentelemetry-exporter-otlp-proto-common-1.37.0 opentelemetry-exporter-otlp-proto-grpc-1.37.0 opentelemetry-proto-1.37.0 opentelemetry-sdk-1.37.0 opentelemetry-semantic-conventions-0.58b0 overrides-7.7.0 posthog-5.4.0 protobuf-6.32.1 pyasn1-0.6.1 pyasn1-modules-0.4.2 pybase64-1.4.2 pypika-0.48.9 pyproject_hooks-1.2.0 pyreadline3-3.5.4 referencing-0.36.2 requests-oauthlib-2.0.0 rich-14.1.0 rpds-py-0.27.1 rsa-4.9.1 shellingham-1.5.4 sympy-1.14.0 tokenizers-0.22.0 tqdm-4.67.1 typer-0.17.4 watchfiles-1.1.0 websocket-client-1.8.0 websockets-15.0.1 zipp-3.23.0\n"
     ]
    },
    {
     "name": "stderr",
     "output_type": "stream",
     "text": [
      "\n",
      "[notice] A new release of pip available: 22.3 -> 25.2\n",
      "[notice] To update, run: python.exe -m pip install --upgrade pip\n"
     ]
    }
   ],
   "source": [
    "pip install chromadb"
   ]
  },
  {
   "cell_type": "code",
   "execution_count": 3,
   "id": "3fbd3dd3",
   "metadata": {},
   "outputs": [],
   "source": [
    "import chromadb\n",
    "\n",
    "client = chromadb.Client()\n",
    "collection = client.create_collection(name=\"test_collection\")"
   ]
  },
  {
   "cell_type": "code",
   "execution_count": 7,
   "id": "add2a471",
   "metadata": {},
   "outputs": [
    {
     "name": "stderr",
     "output_type": "stream",
     "text": [
      "C:\\Users\\Ramsharan-PC\\.cache\\chroma\\onnx_models\\all-MiniLM-L6-v2\\onnx.tar.gz: 100%|██████████| 79.3M/79.3M [04:49<00:00, 287kiB/s] \n"
     ]
    }
   ],
   "source": [
    "collection.add(\n",
    "    documents=[\"This is a test document.\"],\n",
    "    ids=[\"doc1\"]\n",
    ")"
   ]
  },
  {
   "cell_type": "code",
   "execution_count": 8,
   "id": "7df5b772",
   "metadata": {},
   "outputs": [
    {
     "data": {
      "text/plain": [
       "{'ids': ['doc1'],\n",
       " 'embeddings': None,\n",
       " 'documents': ['This is a test document.'],\n",
       " 'uris': None,\n",
       " 'included': ['metadatas', 'documents'],\n",
       " 'data': None,\n",
       " 'metadatas': [None]}"
      ]
     },
     "execution_count": 8,
     "metadata": {},
     "output_type": "execute_result"
    }
   ],
   "source": [
    "all_docs = collection.get(ids=[\"doc1\"])\n",
    "all_docs"
   ]
  },
  {
   "cell_type": "code",
   "execution_count": 9,
   "id": "2583cc9d",
   "metadata": {},
   "outputs": [],
   "source": [
    "collection.add(\n",
    "    documents=[\"This document is about New York City.\",\n",
    "               \"This document is about Los Angeles.\",\n",
    "               ],\n",
    "    ids=[\"doc1\", \"doc2\"],\n",
    "    metadatas=[{\"city\": \"New York\"}, {\"city\": \"Los Angeles\"}]\n",
    ")"
   ]
  },
  {
   "cell_type": "code",
   "execution_count": 12,
   "id": "9c205efc",
   "metadata": {},
   "outputs": [
    {
     "data": {
      "text/plain": [
       "{'ids': [['doc2', 'doc1']],\n",
       " 'embeddings': None,\n",
       " 'documents': [['This document is about Los Angeles.',\n",
       "   'This is a test document.']],\n",
       " 'uris': None,\n",
       " 'included': ['metadatas', 'documents', 'distances'],\n",
       " 'data': None,\n",
       " 'metadatas': [[{'city': 'Los Angeles'}, None]],\n",
       " 'distances': [[1.4774248600006104, 1.9642513990402222]]}"
      ]
     },
     "execution_count": 12,
     "metadata": {},
     "output_type": "execute_result"
    }
   ],
   "source": [
    "results = collection.query(\n",
    "    query_texts=[\"NYC\"],\n",
    "    n_results=2\n",
    ")\n",
    "results"
   ]
  }
 ],
 "metadata": {
  "kernelspec": {
   "display_name": "Python 3",
   "language": "python",
   "name": "python3"
  },
  "language_info": {
   "codemirror_mode": {
    "name": "ipython",
    "version": 3
   },
   "file_extension": ".py",
   "mimetype": "text/x-python",
   "name": "python",
   "nbconvert_exporter": "python",
   "pygments_lexer": "ipython3",
   "version": "3.11.0"
  }
 },
 "nbformat": 4,
 "nbformat_minor": 5
}
